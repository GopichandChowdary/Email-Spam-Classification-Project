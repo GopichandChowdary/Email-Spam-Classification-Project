{
 "cells": [
  {
   "cell_type": "markdown",
   "id": "a9b33753",
   "metadata": {},
   "source": [
    "<h2 style=\"color: green\"> Import all the dependencies </h2>"
   ]
  },
  {
   "cell_type": "code",
   "execution_count": 1,
   "id": "511aad18",
   "metadata": {},
   "outputs": [],
   "source": [
    "import pandas as pd\n",
    "import re\n",
    "import nltk\n",
    "# nltk.download('stopwords')\n",
    "from nltk.corpus import stopwords\n",
    "from nltk.stem import PorterStemmer\n",
    "from wordcloud import WordCloud, STOPWORDS \n",
    "import warnings\n",
    "import matplotlib.pyplot as plt\n",
    "warnings.filterwarnings(\"ignore\")\n",
    "from sklearn.feature_extraction.text import TfidfVectorizer\n",
    "from sklearn.feature_extraction.text import CountVectorizer\n",
    "from sklearn.model_selection import train_test_split\n",
    "from sklearn.naive_bayes import MultinomialNB\n",
    "from sklearn.svm import SVC\n",
    "from sklearn.metrics import confusion_matrix\n",
    "from sklearn.metrics import accuracy_score"
   ]
  },
  {
   "cell_type": "code",
   "execution_count": 2,
   "id": "04b9334e",
   "metadata": {},
   "outputs": [],
   "source": [
    "mails = pd.DataFrame(pd.read_csv('emails.csv', encoding=\"ISO-8859-1\", usecols=['v1', 'v2']))"
   ]
  },
  {
   "cell_type": "code",
   "execution_count": 3,
   "id": "c0696760",
   "metadata": {},
   "outputs": [
    {
     "data": {
      "text/plain": [
       "(5572, 2)"
      ]
     },
     "execution_count": 3,
     "metadata": {},
     "output_type": "execute_result"
    }
   ],
   "source": [
    "mails.shape"
   ]
  },
  {
   "cell_type": "code",
   "execution_count": 4,
   "id": "bf8384c8",
   "metadata": {},
   "outputs": [
    {
     "data": {
      "text/html": [
       "<div>\n",
       "<style scoped>\n",
       "    .dataframe tbody tr th:only-of-type {\n",
       "        vertical-align: middle;\n",
       "    }\n",
       "\n",
       "    .dataframe tbody tr th {\n",
       "        vertical-align: top;\n",
       "    }\n",
       "\n",
       "    .dataframe thead th {\n",
       "        text-align: right;\n",
       "    }\n",
       "</style>\n",
       "<table border=\"1\" class=\"dataframe\">\n",
       "  <thead>\n",
       "    <tr style=\"text-align: right;\">\n",
       "      <th></th>\n",
       "      <th>v1</th>\n",
       "      <th>v2</th>\n",
       "    </tr>\n",
       "  </thead>\n",
       "  <tbody>\n",
       "    <tr>\n",
       "      <th>0</th>\n",
       "      <td>ham</td>\n",
       "      <td>Go until jurong point, crazy.. Available only ...</td>\n",
       "    </tr>\n",
       "    <tr>\n",
       "      <th>1</th>\n",
       "      <td>ham</td>\n",
       "      <td>Ok lar... Joking wif u oni...</td>\n",
       "    </tr>\n",
       "    <tr>\n",
       "      <th>2</th>\n",
       "      <td>spam</td>\n",
       "      <td>Free entry in 2 a wkly comp to win FA Cup fina...</td>\n",
       "    </tr>\n",
       "    <tr>\n",
       "      <th>3</th>\n",
       "      <td>ham</td>\n",
       "      <td>U dun say so early hor... U c already then say...</td>\n",
       "    </tr>\n",
       "    <tr>\n",
       "      <th>4</th>\n",
       "      <td>ham</td>\n",
       "      <td>Nah I don't think he goes to usf, he lives aro...</td>\n",
       "    </tr>\n",
       "  </tbody>\n",
       "</table>\n",
       "</div>"
      ],
      "text/plain": [
       "     v1                                                 v2\n",
       "0   ham  Go until jurong point, crazy.. Available only ...\n",
       "1   ham                      Ok lar... Joking wif u oni...\n",
       "2  spam  Free entry in 2 a wkly comp to win FA Cup fina...\n",
       "3   ham  U dun say so early hor... U c already then say...\n",
       "4   ham  Nah I don't think he goes to usf, he lives aro..."
      ]
     },
     "execution_count": 4,
     "metadata": {},
     "output_type": "execute_result"
    }
   ],
   "source": [
    "mails.head()"
   ]
  },
  {
   "cell_type": "code",
   "execution_count": 5,
   "id": "4ad20fa7",
   "metadata": {},
   "outputs": [
    {
     "data": {
      "text/html": [
       "<div>\n",
       "<style scoped>\n",
       "    .dataframe tbody tr th:only-of-type {\n",
       "        vertical-align: middle;\n",
       "    }\n",
       "\n",
       "    .dataframe tbody tr th {\n",
       "        vertical-align: top;\n",
       "    }\n",
       "\n",
       "    .dataframe thead th {\n",
       "        text-align: right;\n",
       "    }\n",
       "</style>\n",
       "<table border=\"1\" class=\"dataframe\">\n",
       "  <thead>\n",
       "    <tr style=\"text-align: right;\">\n",
       "      <th></th>\n",
       "      <th>label</th>\n",
       "      <th>message</th>\n",
       "    </tr>\n",
       "  </thead>\n",
       "  <tbody>\n",
       "    <tr>\n",
       "      <th>0</th>\n",
       "      <td>ham</td>\n",
       "      <td>Go until jurong point, crazy.. Available only ...</td>\n",
       "    </tr>\n",
       "    <tr>\n",
       "      <th>1</th>\n",
       "      <td>ham</td>\n",
       "      <td>Ok lar... Joking wif u oni...</td>\n",
       "    </tr>\n",
       "    <tr>\n",
       "      <th>2</th>\n",
       "      <td>spam</td>\n",
       "      <td>Free entry in 2 a wkly comp to win FA Cup fina...</td>\n",
       "    </tr>\n",
       "    <tr>\n",
       "      <th>3</th>\n",
       "      <td>ham</td>\n",
       "      <td>U dun say so early hor... U c already then say...</td>\n",
       "    </tr>\n",
       "    <tr>\n",
       "      <th>4</th>\n",
       "      <td>ham</td>\n",
       "      <td>Nah I don't think he goes to usf, he lives aro...</td>\n",
       "    </tr>\n",
       "  </tbody>\n",
       "</table>\n",
       "</div>"
      ],
      "text/plain": [
       "  label                                            message\n",
       "0   ham  Go until jurong point, crazy.. Available only ...\n",
       "1   ham                      Ok lar... Joking wif u oni...\n",
       "2  spam  Free entry in 2 a wkly comp to win FA Cup fina...\n",
       "3   ham  U dun say so early hor... U c already then say...\n",
       "4   ham  Nah I don't think he goes to usf, he lives aro..."
      ]
     },
     "execution_count": 5,
     "metadata": {},
     "output_type": "execute_result"
    }
   ],
   "source": [
    "mails.columns = ['label', 'message']\n",
    "mails.head()"
   ]
  },
  {
   "cell_type": "code",
   "execution_count": 6,
   "id": "837ec25b",
   "metadata": {},
   "outputs": [
    {
     "data": {
      "text/plain": [
       "[('ham',\n",
       "       label                                            message\n",
       "  0      ham  Go until jurong point, crazy.. Available only ...\n",
       "  1      ham                      Ok lar... Joking wif u oni...\n",
       "  3      ham  U dun say so early hor... U c already then say...\n",
       "  4      ham  Nah I don't think he goes to usf, he lives aro...\n",
       "  6      ham  Even my brother is not like to speak with me. ...\n",
       "  ...    ...                                                ...\n",
       "  5565   ham                                       Huh y lei...\n",
       "  5568   ham              Will Ì_ b going to esplanade fr home?\n",
       "  5569   ham  Pity, * was in mood for that. So...any other s...\n",
       "  5570   ham  The guy did some bitching but I acted like i'd...\n",
       "  5571   ham                         Rofl. Its true to its name\n",
       "  \n",
       "  [4825 rows x 2 columns]),\n",
       " ('spam',\n",
       "       label                                            message\n",
       "  2     spam  Free entry in 2 a wkly comp to win FA Cup fina...\n",
       "  5     spam  FreeMsg Hey there darling it's been 3 week's n...\n",
       "  8     spam  WINNER!! As a valued network customer you have...\n",
       "  9     spam  Had your mobile 11 months or more? U R entitle...\n",
       "  11    spam  SIX chances to win CASH! From 100 to 20,000 po...\n",
       "  ...    ...                                                ...\n",
       "  5537  spam  Want explicit SEX in 30 secs? Ring 02073162414...\n",
       "  5540  spam  ASKED 3MOBILE IF 0870 CHATLINES INCLU IN FREE ...\n",
       "  5547  spam  Had your contract mobile 11 Mnths? Latest Moto...\n",
       "  5566  spam  REMINDER FROM O2: To get 2.50 pounds free call...\n",
       "  5567  spam  This is the 2nd time we have tried 2 contact u...\n",
       "  \n",
       "  [747 rows x 2 columns])]"
      ]
     },
     "execution_count": 6,
     "metadata": {},
     "output_type": "execute_result"
    }
   ],
   "source": [
    "list(mails.groupby(\"label\"))"
   ]
  },
  {
   "cell_type": "markdown",
   "id": "fe1b5b47",
   "metadata": {},
   "source": [
    "<h2 style=\"color:green\"> Data cleaning / Text-Preprocessing </h2>"
   ]
  },
  {
   "cell_type": "code",
   "execution_count": 7,
   "id": "282de935",
   "metadata": {},
   "outputs": [],
   "source": [
    "def preprocessing(mails):\n",
    "    ps = PorterStemmer()\n",
    "    corpus = []\n",
    "\n",
    "    for i in range(len(mails)):\n",
    "        content = re.sub('[^a-zA-Z]', ' ', mails['message'][i])\n",
    "        content = content.lower().split()\n",
    "        content = [ps.stem(word) for word in content if not word in set(stopwords.words(\"english\"))]\n",
    "        content = ' '.join(content)\n",
    "        corpus.append(content)\n",
    "    return corpus"
   ]
  },
  {
   "cell_type": "code",
   "execution_count": 8,
   "id": "64a71d26",
   "metadata": {},
   "outputs": [],
   "source": [
    "corpus = preprocessing(mails)"
   ]
  },
  {
   "cell_type": "code",
   "execution_count": 9,
   "id": "199bb30e",
   "metadata": {},
   "outputs": [
    {
     "data": {
      "image/png": "[encoded data removed]",
      "text/plain": [
       "<Figure size 432x288 with 1 Axes>"
      ]
     },
     "metadata": {
      "needs_background": "light"
     },
     "output_type": "display_data"
    }
   ],
   "source": [
    "# Start with one review:\n",
    "text = \" \".join(mails.message[i] for i in range(len(mails)))\n",
    "\n",
    "# Create and generate a word cloud image:\n",
    "wordcloud = WordCloud().generate(text)\n",
    "\n",
    "# Display the generated image:\n",
    "plt.imshow(wordcloud, interpolation='bilinear')\n",
    "plt.axis(\"off\")\n",
    "plt.show()"
   ]
  },
  {
   "cell_type": "markdown",
   "id": "54fb20ed",
   "metadata": {},
   "source": [
    "<h2 style=\"color:green\"> Bag of words model </h2>"
   ]
  },
  {
   "cell_type": "code",
   "execution_count": 10,
   "id": "2d1d70f9",
   "metadata": {},
   "outputs": [],
   "source": [
    "# TFIDF-Vectorizer\n",
    "# tfidf = TfidfVectorizer()\n",
    "# X = tfidf.fit_transform(corpus).toarray()\n",
    "\n",
    "# Count Vectorizer\n",
    "cv = CountVectorizer(max_features=5000)\n",
    "X = cv.fit_transform(corpus).toarray()\n",
    "\n",
    "#This is spam colomn 0 - not spam, 1 - spam\n",
    "y = pd.get_dummies(mails['label'], drop_first = True)\n",
    "y = y.values"
   ]
  },
  {
   "cell_type": "markdown",
   "id": "ba7d89af",
   "metadata": {},
   "source": [
    "<h2 style=\"color:orange\"> Train-test split </h2>"
   ]
  },
  {
   "cell_type": "code",
   "execution_count": 11,
   "id": "7a02aac9",
   "metadata": {},
   "outputs": [],
   "source": [
    "X_train, X_test, y_train, y_test = train_test_split(X, y, random_state = 0)\n",
    "y_train = y_train.reshape(-1, )"
   ]
  },
  {
   "cell_type": "markdown",
   "id": "bd7f8827",
   "metadata": {},
   "source": [
    "<h2 style=\"color:orange\">Naive Bayes Classifier</h2>"
   ]
  },
  {
   "cell_type": "code",
   "execution_count": 12,
   "id": "6e561cd0",
   "metadata": {},
   "outputs": [
    {
     "data": {
      "text/plain": [
       "MultinomialNB()"
      ]
     },
     "execution_count": 12,
     "metadata": {},
     "output_type": "execute_result"
    }
   ],
   "source": [
    "model = MultinomialNB()\n",
    "model.fit(X_train, y_train)"
   ]
  },
  {
   "cell_type": "markdown",
   "id": "ce237532",
   "metadata": {},
   "source": [
    "<h2 style=\"color:orange\">Support Vector Machine Classifier</h2>"
   ]
  },
  {
   "cell_type": "code",
   "execution_count": 13,
   "id": "b1278d5a",
   "metadata": {},
   "outputs": [
    {
     "data": {
      "text/plain": [
       "SVC()"
      ]
     },
     "execution_count": 13,
     "metadata": {},
     "output_type": "execute_result"
    }
   ],
   "source": [
    "model2 = SVC()\n",
    "model2.fit(X_train, y_train)"
   ]
  },
  {
   "cell_type": "markdown",
   "id": "0f26c33f",
   "metadata": {},
   "source": [
    "<h2 style=\"color:orange\">Evaluation Metrics</h2>"
   ]
  },
  {
   "cell_type": "code",
   "execution_count": 14,
   "id": "fccc4a57",
   "metadata": {},
   "outputs": [
    {
     "name": "stdout",
     "output_type": "stream",
     "text": [
      "Train data accuracy Score(Naive Bayes) :  99.2\n",
      "Test data accuracy Score(Naive Bayes) :  98.3\n",
      "Confusion Matrix : \n",
      " [[1179   17]\n",
      " [   7  190]]\n"
     ]
    }
   ],
   "source": [
    "y_train_pred = model.predict(X_train)\n",
    "y_pred = model.predict(X_test)\n",
    "\n",
    "train_accuracy = accuracy_score(y_train, y_train_pred)\n",
    "test_accuracy = accuracy_score(y_test, y_pred)\n",
    "\n",
    "print(\"Train data accuracy Score(Naive Bayes) : \", round(train_accuracy*100, 1))\n",
    "print(\"Test data accuracy Score(Naive Bayes) : \", round(test_accuracy*100, 1))\n",
    "\n",
    "conf_matrix = confusion_matrix(y_test, y_pred)\n",
    "print(\"Confusion Matrix : \\n\", conf_matrix)"
   ]
  },
  {
   "cell_type": "code",
   "execution_count": 15,
   "id": "4043cb6b",
   "metadata": {},
   "outputs": [
    {
     "name": "stdout",
     "output_type": "stream",
     "text": [
      "Train data accuracy Score(Naive Bayes) :  99.5\n",
      "Test data accuracy Score(Naive Bayes) :  97.6\n",
      "Confusion Matrix : \n",
      " [[1195    1]\n",
      " [  33  164]]\n"
     ]
    }
   ],
   "source": [
    "y_train_pred2 = model2.predict(X_train)\n",
    "y_pred2 = model2.predict(X_test)\n",
    "\n",
    "train_accuracy2 = accuracy_score(y_train, y_train_pred2)\n",
    "test_accuracy2 = accuracy_score(y_test, y_pred2)\n",
    "\n",
    "print(\"Train data accuracy Score(Naive Bayes) : \", round(train_accuracy2*100, 1))\n",
    "print(\"Test data accuracy Score(Naive Bayes) : \", round(test_accuracy2*100, 1))\n",
    "\n",
    "conf_matrix = confusion_matrix(y_test, y_pred2)\n",
    "print(\"Confusion Matrix : \\n\", conf_matrix)"
   ]
  },
  {
   "cell_type": "markdown",
   "id": "bf04f459",
   "metadata": {},
   "source": [
    "<h2 style=\"color:orange\">Predictions</h2>"
   ]
  },
  {
   "cell_type": "markdown",
   "id": "08c9e1e4",
   "metadata": {},
   "source": [
    "Please call our customer service representative on FREEPHONE 0808 145 4742 between 9am-11pm as you have WON a guaranteed �1000 cash or �5000 prize!"
   ]
  },
  {
   "cell_type": "markdown",
   "id": "add14d69",
   "metadata": {},
   "source": [
    "As I entered my cabin my PA said, '' Happy B'day Boss !!''. I felt special. She askd me 4 lunch. After lunch she invited me to her apartment. We went there."
   ]
  },
  {
   "cell_type": "markdown",
   "id": "92463016",
   "metadata": {},
   "source": [
    "Wen ur lovable bcums angry wid u, dnt take it seriously.. Coz being angry is d most childish n true way of showing deep affection, care n luv!.. kettoda manda... Have nice day da."
   ]
  },
  {
   "cell_type": "code",
   "execution_count": 16,
   "id": "f78553ed",
   "metadata": {},
   "outputs": [],
   "source": [
    "def vectorizeAndPredict(corpus):\n",
    "    X = cv.transform(corpus).toarray()\n",
    "    preds = model.predict(X)\n",
    "    for i in preds:\n",
    "        if(i): print(\"Not Spam.\")\n",
    "        else: print(\"Spam Email.\")"
   ]
  },
  {
   "cell_type": "code",
   "execution_count": 17,
   "id": "000dc8f9",
   "metadata": {},
   "outputs": [
    {
     "name": "stdout",
     "output_type": "stream",
     "text": [
      "Count of mails : 2\n",
      "Enter content of mail : Please call our customer service representative on FREEPHONE 0808 145 4742 between 9am-11pm as you have WON a guaranteed �1000 cash or �5000 prize!\n",
      "Enter content of mail : Wen ur lovable bcums angry wid u, dnt take it seriously.. Coz being angry is d most childish n true way of showing deep affection, care n luv!.. kettoda manda... Have nice day da.\n"
     ]
    },
    {
     "data": {
      "text/html": [
       "<div>\n",
       "<style scoped>\n",
       "    .dataframe tbody tr th:only-of-type {\n",
       "        vertical-align: middle;\n",
       "    }\n",
       "\n",
       "    .dataframe tbody tr th {\n",
       "        vertical-align: top;\n",
       "    }\n",
       "\n",
       "    .dataframe thead th {\n",
       "        text-align: right;\n",
       "    }\n",
       "</style>\n",
       "<table border=\"1\" class=\"dataframe\">\n",
       "  <thead>\n",
       "    <tr style=\"text-align: right;\">\n",
       "      <th></th>\n",
       "      <th>message</th>\n",
       "    </tr>\n",
       "  </thead>\n",
       "  <tbody>\n",
       "    <tr>\n",
       "      <th>0</th>\n",
       "      <td>Please call our customer service representativ...</td>\n",
       "    </tr>\n",
       "    <tr>\n",
       "      <th>1</th>\n",
       "      <td>Wen ur lovable bcums angry wid u, dnt take it ...</td>\n",
       "    </tr>\n",
       "  </tbody>\n",
       "</table>\n",
       "</div>"
      ],
      "text/plain": [
       "                                             message\n",
       "0  Please call our customer service representativ...\n",
       "1  Wen ur lovable bcums angry wid u, dnt take it ..."
      ]
     },
     "execution_count": 17,
     "metadata": {},
     "output_type": "execute_result"
    }
   ],
   "source": [
    "t = int(input(\"Count of mails : \"))\n",
    "mails = {\"message\":[]}\n",
    "while(t):\n",
    "    mails[\"message\"].append(input(\"Enter content of mail : \").strip())\n",
    "    t -= 1\n",
    "    \n",
    "df = pd.DataFrame(mails)\n",
    "df.head()"
   ]
  },
  {
   "cell_type": "code",
   "execution_count": 18,
   "id": "e0a0196f",
   "metadata": {},
   "outputs": [
    {
     "name": "stdout",
     "output_type": "stream",
     "text": [
      "Not Spam.\n",
      "Spam Email.\n"
     ]
    }
   ],
   "source": [
    "corpus2 = preprocessing(df)\n",
    "vectorizeAndPredict(corpus2)"
   ]
  },
  {
   "cell_type": "markdown",
   "id": "47c9b586",
   "metadata": {},
   "source": [
    "<h2 style=\"color:green\">Saving and Loading Models</h2>"
   ]
  },
  {
   "cell_type": "code",
   "execution_count": 19,
   "id": "71ab978b",
   "metadata": {},
   "outputs": [],
   "source": [
    "import pickle"
   ]
  },
  {
   "cell_type": "code",
   "execution_count": 20,
   "id": "0f704423",
   "metadata": {},
   "outputs": [],
   "source": [
    "pickle.dump(model, open('spam.pkl', 'wb'))\n",
    "pickle.dump(cv, open('vectorizer.pkl', 'wb'))"
   ]
  },
  {
   "cell_type": "code",
   "execution_count": 21,
   "id": "4d73f290",
   "metadata": {},
   "outputs": [],
   "source": [
    "model = pickle.load(open('spam.pkl', 'rb'))\n",
    "cv = pickle.load(open('vectorizer.pkl', 'rb'))"
   ]
  }
 ],
 "metadata": {
  "kernelspec": {
   "display_name": "Python 3 (ipykernel)",
   "language": "python",
   "name": "python3"
  },
  "language_info": {
   "codemirror_mode": {
    "name": "ipython",
    "version": 3
   },
   "file_extension": ".py",
   "mimetype": "text/x-python",
   "name": "python",
   "nbconvert_exporter": "python",
   "pygments_lexer": "ipython3",
   "version": "3.10.4"
  }
 },
 "nbformat": 4,
 "nbformat_minor": 5
}
